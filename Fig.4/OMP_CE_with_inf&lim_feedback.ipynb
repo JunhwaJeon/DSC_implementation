{
 "cells": [
  {
   "cell_type": "markdown",
   "metadata": {},
   "source": [
    "### OMP(Orthogoanl Matching Pursuit, compressed sensing algorithm) based channel estimation & infinite/limited rate feedback"
   ]
  },
  {
   "cell_type": "code",
   "execution_count": 1,
   "metadata": {},
   "outputs": [],
   "source": [
    "import torch\n",
    "import torch.nn as nn\n",
    "import torch.nn.functional as F\n",
    "import torch.optim as optim\n",
    "import torch.nn.init as init\n",
    "import scipy.linalg as sci\n",
    "import scipy.io as sio\n",
    "import numpy as np\n",
    "import matplotlib.pyplot as plt"
   ]
  },
  {
   "cell_type": "code",
   "execution_count": 2,
   "metadata": {},
   "outputs": [],
   "source": [
    "device = torch.device(\"cuda\" if torch.cuda.is_available() else \"cpu\")"
   ]
  },
  {
   "cell_type": "markdown",
   "metadata": {},
   "source": [
    "### Parameter 초기화"
   ]
  },
  {
   "cell_type": "code",
   "execution_count": null,
   "metadata": {},
   "outputs": [],
   "source": [
    "## Learning parameters\n",
    "initial_run = 1 #1: starts training from scratch; 0: resumes training \n",
    "n_epochs = 5000 #Number of training epochs, for observing the current performance set it to 0\n",
    "learning_rate = 0.0005 #Learning rate\n",
    "\n",
    "batch_size = 1024 #Mini-batch size\n",
    "test_size = 10000 #Size of the validation/test set\n",
    "batch_per_epoch = 20 #Numbers of mini-batches per epoch\n",
    "\n",
    "anneal_param = 1.0 #Initial annealing parmeter\n",
    "annealing_rate = 1.001 #Annealing rate"
   ]
  },
  {
   "cell_type": "code",
   "execution_count": 4,
   "metadata": {},
   "outputs": [],
   "source": [
    "## System parameters\n",
    "M = 64 #Number of BS antennas\n",
    "P = 1 #Power\n",
    "K =  2 #Number of users\n",
    "L = 8 #Number of pilots\n",
    "Lp = 2 #Number of paths\n",
    "B = 30 #Number of feedback bits per user\n",
    "\n",
    "## Limited scattering channel parameters\n",
    "LSF_UE = np.array([0.0,0.0],dtype=np.float32) #Mean of path gains for K users\n",
    "Mainlobe_UE= np.array([0,0],dtype=np.float32) #Center of the AoD range for K users\n",
    "HalfBW_UE = np.array([30.0,30.0],dtype=np.float32) #Half of the AoD range for K users\n",
    "\n",
    "# SNR\n",
    "snr_dl = 10 #SNR in dB\n",
    "noise_std_dl = np.float32(np.sqrt(1/2)*np.sqrt(P/10**(snr_dl/10))) #STD of the Gaussian noise (per real dim.)"
   ]
  },
  {
   "cell_type": "code",
   "execution_count": 5,
   "metadata": {},
   "outputs": [
    {
     "name": "stdout",
     "output_type": "stream",
     "text": [
      "[30. 30.]\n"
     ]
    }
   ],
   "source": [
    "print(HalfBW_UE)"
   ]
  },
  {
   "cell_type": "markdown",
   "metadata": {},
   "source": [
    "### OMP based sparse channel estimation"
   ]
  },
  {
   "cell_type": "markdown",
   "metadata": {},
   "source": [
    "#### **Input**\n",
    "1. Pilot sequence X , DFT matrix of (-30, 30), 1000 intervals S -> measurement matrix Phi=transpose(X)*transpose(S)=transpose(S*X)\n",
    "2. First residual/data vector u=transpose(y)=[y_1, ..., y_L]=(h_k^H)*[x_1, ..., x_L]+[w_1, ..., w_L]=(h_k^H)*S * transpose(X)*[x_1, ..., x_L]+[w_1, ..., w_L]"
   ]
  },
  {
   "cell_type": "code",
   "execution_count": null,
   "metadata": {},
   "outputs": [],
   "source": [
    "def OMPce(h_act, pilot_sequence, num_users, Mainlobe_UE, HalfBW_UE, noise_std, sparsity_level, dict_size):\n",
    "    AoD_low = Mainlobe_UE[0]-HalfBW_UE[0]\n",
    "    AoD_high = Mainlobe_UE[0]+HalfBW_UE[0]\n",
    "    S = torch.zeros([dict_size, len(pilot_sequence[:, 0])])\n",
    "    \n",
    "    for ss in range(dict_size):\n",
    "        S[ss, :]=torch.exp(1j*torch.pi*[m for m in range(pilot_sequence[:, 0])]*(AoD_low + (AoD_high-AoD_low) * ss/dict_size))\n",
    "    \n",
    "    for hh in range(h_act[0]):\n",
    "        H = h_act[hh, :, :].squeeze(0)\n",
    "        Y = H * pilot_sequence + torch.randn([num_users, len(pilot_sequence[0, :])])\n",
    "        Hhat = torch.zeros([num_users, len(pilot_sequence[0, :])])\n",
    "        \n",
    "        for kk in range(num_users):\n",
    "            u = Y[kk, :].T\n",
    "            Phi = pilot_sequence.T * S.T\n",
    "            idx = torch.zeros(sparsity_level, 1)\n",
    "            v = u\n",
    "            \n",
    "            for tt in range(sparsity_level):\n",
    "                idx[tt] = torch.argmax(torch.abs(Phi.T * v))\n",
    "                phi_s = [Phi[:, i] for i in idx[:tt]]\n",
    "                b = sci.pinv(phi_s)*u\n",
    "                v = v - phi_s * B\n",
    "                \n",
    "            hhat = b.T * [S[i, :] for i in idx]\n",
    "            Hhat[kk, :] = hhat\n",
    "            \n",
    "    return Hhat"
   ]
  }
 ],
 "metadata": {
  "kernelspec": {
   "display_name": "acnl",
   "language": "python",
   "name": "python3"
  },
  "language_info": {
   "codemirror_mode": {
    "name": "ipython",
    "version": 3
   },
   "file_extension": ".py",
   "mimetype": "text/x-python",
   "name": "python",
   "nbconvert_exporter": "python",
   "pygments_lexer": "ipython3",
   "version": "3.12.8"
  }
 },
 "nbformat": 4,
 "nbformat_minor": 2
}
